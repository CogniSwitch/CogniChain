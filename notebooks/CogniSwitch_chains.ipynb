{
 "cells": [
  {
   "cell_type": "markdown",
   "id": "a1a5d6d7",
   "metadata": {},
   "source": [
    "<a target=\"_blank\" href=\"https://colab.research.google.com/github/CogniSwitch/CogniChain/blob/main/notebooks/CogniSwitch_chains.ipynb\">\n",
    "  <img src=\"https://colab.research.google.com/assets/colab-badge.svg\" alt=\"Open In Colab\"/>\n",
    "</a>"
   ]
  },
  {
   "cell_type": "markdown",
   "id": "19062701",
   "metadata": {},
   "source": [
    "## Cogniswitch Chains\n",
    "\n",
    "**Use CogniSwitch to build production ready applications that can consume, organize and retrieve knowledge flawlessly. Using the framework of your choice, in this case Langchain CogniSwitch helps alleviate the stress of decision making when it comes to, choosing the right storage and retrieval formats. It also eradicates reliability issues and hallucinations when it comes to responses that are generated. Get started by interacting with your knowledge in just two simple steps.**<br><br>\n",
    "visit [https://www.cogniswitch.ai/developer to register](https://www.cogniswitch.ai/developer?utm_source=langchain&utm_medium=langchainbuild&utm_id=dev).<br><br>\n",
    "**Registration:** <br>\n",
    "- Signup with your email and verify your registration <br>\n",
    "- You will get a mail with a platform token and oauth token for using the services.<br><br>\n",
    "**step 1: Cogniswitch Store Chain:** <br><br>\n",
    "- Use your cogniswitch token, openAI API key, oauth token and your file or URL to run the chain.  <br>\n",
    "- it will be processed and stored in your knowledge store.  - you can check the status of document processing in cogniswitch console. <br><br>\n",
    "**step 2: Cogniswitch Answer Chain:**<br><br> \n",
    "- Use your cogniswitch token, openAI API key, oauth token and your question to run the chain.  \n",
    "- You will get the answer from your knowledge as the response. <br>\n"
   ]
  },
  {
   "cell_type": "code",
   "execution_count": null,
   "id": "62afb73c",
   "metadata": {},
   "outputs": [],
   "source": [
    "# !pip install langchain"
   ]
  },
  {
   "cell_type": "code",
   "execution_count": 1,
   "id": "0890ecc4",
   "metadata": {},
   "outputs": [],
   "source": [
    "import warnings\n",
    "warnings.filterwarnings(\"ignore\")"
   ]
  },
  {
   "cell_type": "markdown",
   "id": "42981bf3",
   "metadata": {},
   "source": [
    "## Use source code to import the chains\n",
    "\n",
    "- In order to use the cogniswitch chains you need to cognichain folder from the repository in the same directory as this notebook and import the chains as shown below."
   ]
  },
  {
   "cell_type": "markdown",
   "id": "3476857f",
   "metadata": {},
   "source": [
    "## Cogniswitch Store Chain"
   ]
  },
  {
   "cell_type": "markdown",
   "id": "1435b193",
   "metadata": {},
   "source": [
    "### Import necessary libraries"
   ]
  },
  {
   "cell_type": "code",
   "execution_count": 2,
   "id": "05df13dc",
   "metadata": {},
   "outputs": [],
   "source": [
    "from cognichain import CogniswitchStoreChain"
   ]
  },
  {
   "cell_type": "markdown",
   "id": "320e02fc",
   "metadata": {},
   "source": [
    "### Instantiate the Store chain"
   ]
  },
  {
   "cell_type": "code",
   "execution_count": 3,
   "id": "89f58167",
   "metadata": {},
   "outputs": [],
   "source": [
    "cs_store = CogniswitchStoreChain()"
   ]
  },
  {
   "cell_type": "markdown",
   "id": "42c9890e",
   "metadata": {},
   "source": [
    "### Run the chain with the cs token, openai token and either url or a file path"
   ]
  },
  {
   "cell_type": "code",
   "execution_count": 4,
   "id": "5c6410e9",
   "metadata": {
    "scrolled": false
   },
   "outputs": [],
   "source": [
    "response = cs_store.run({\"cs_token\": <Your cs token here>,\n",
    "                    \"OAI_token\": <your Openai API key here>,\n",
    "                    \"url\":\"https://cogniswitch.ai\",\n",
    "                    \"apiKey\": <your oauth token here>,\n",
    "                    })"
   ]
  },
  {
   "cell_type": "code",
   "execution_count": 5,
   "id": "794b4fba",
   "metadata": {},
   "outputs": [
    {
     "name": "stdout",
     "output_type": "stream",
     "text": [
      "{'data': {'knowledgeSourceId': 63, 'sourceType': 'https://cogniswitch.ai', 'sourceURL': None, 'sourceFileName': None, 'sourceName': None, 'sourceDescription': None, 'status': 'UPLOADED'}, 'list': None, 'message': \"We're processing your content & will send you an email on completion, hang tight!\", 'statusCode': 1000}\n"
     ]
    }
   ],
   "source": [
    "print(response)"
   ]
  },
  {
   "cell_type": "markdown",
   "id": "b5e9ca94",
   "metadata": {},
   "source": [
    "## Cogniswitch Answer Chain"
   ]
  },
  {
   "cell_type": "markdown",
   "id": "73e3e66f",
   "metadata": {},
   "source": [
    "### Import necessary libraries"
   ]
  },
  {
   "cell_type": "code",
   "execution_count": 6,
   "id": "0d1f7e6e",
   "metadata": {
    "scrolled": true
   },
   "outputs": [],
   "source": [
    "from cognichain import CogniswitchAnswerChain"
   ]
  },
  {
   "cell_type": "markdown",
   "id": "c7d32067",
   "metadata": {},
   "source": [
    "### Instantiate the answer chain"
   ]
  },
  {
   "cell_type": "code",
   "execution_count": 7,
   "id": "1365953e",
   "metadata": {},
   "outputs": [],
   "source": [
    "cs_answer = CogniswitchAnswerChain()"
   ]
  },
  {
   "cell_type": "markdown",
   "id": "0ba9aca9",
   "metadata": {},
   "source": [
    "### Run the chain with the cs token, openai token and the query"
   ]
  },
  {
   "cell_type": "code",
   "execution_count": 8,
   "id": "eb059787",
   "metadata": {
    "scrolled": true
   },
   "outputs": [],
   "source": [
    "resp = cs_answer.run({\"cs_token\": <Your cs token here>,\n",
    "                     \"query\":\"what is cogniswitch?\",\n",
    "                     \"OAI_token\": <your Openai API key here>,\n",
    "                     \"apiKey\": <your oauth token here>,\n",
    "                     })"
   ]
  },
  {
   "cell_type": "code",
   "execution_count": 9,
   "id": "e73e963f",
   "metadata": {
    "scrolled": true
   },
   "outputs": [
    {
     "name": "stdout",
     "output_type": "stream",
     "text": [
      "CogniSwitch is a versatile platform or software that offers various functionalities. It helps in managing data retrieval and organizing information effectively. It also streamlines the learning process and visualizes knowledge in a user-friendly manner. Additionally, CogniSwitch allows users to fine-tune their knowledge and explore data intuitively. It simplifies complex ideas and offers an API for on-demand knowledge consumption.\n"
     ]
    }
   ],
   "source": [
    "print(resp[\"data\"][\"answer\"])"
   ]
  }
 ],
 "metadata": {
  "kernelspec": {
   "display_name": "langchain_repo",
   "language": "python",
   "name": "langchain_repo"
  },
  "language_info": {
   "codemirror_mode": {
    "name": "ipython",
    "version": 3
   },
   "file_extension": ".py",
   "mimetype": "text/x-python",
   "name": "python",
   "nbconvert_exporter": "python",
   "pygments_lexer": "ipython3",
   "version": "3.9.17"
  }
 },
 "nbformat": 4,
 "nbformat_minor": 5
}
